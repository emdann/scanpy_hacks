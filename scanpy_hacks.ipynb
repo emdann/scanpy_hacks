{
 "cells": [
  {
   "cell_type": "markdown",
   "metadata": {},
   "source": [
    "# Scanpy cheatsheet\n",
    "---"
   ]
  },
  {
   "cell_type": "markdown",
   "metadata": {},
   "source": [
    "## 1. Plotting"
   ]
  },
  {
   "cell_type": "markdown",
   "metadata": {},
   "source": [
    "Define output folder for saving figures"
   ]
  },
  {
   "cell_type": "code",
   "execution_count": null,
   "metadata": {},
   "outputs": [],
   "source": [
    "sc._settings.ScanpyConfig.figdir = Path(figdir)"
   ]
  },
  {
   "cell_type": "markdown",
   "metadata": {},
   "source": [
    "#### Arranging scatterplots from multiple anndata objects in same line"
   ]
  },
  {
   "cell_type": "code",
   "execution_count": null,
   "metadata": {},
   "outputs": [],
   "source": [
    "fig, ax = plt.subplots(1,3, figsize=(20,6))\n",
    "sc.pl.umap(adata, ax=ax[0], show=False)\n",
    "sc.pl.umap(bdata, ax=ax[1], show=False)\n",
    "sc.pl.umap(cdata, ax=ax[2], show=False)\n",
    "plt.tight_layout(pad=3.0)\n",
    "plt.show()"
   ]
  },
  {
   "cell_type": "markdown",
   "metadata": {},
   "source": [
    "### Highlighting group in embedding"
   ]
  },
  {
   "cell_type": "code",
   "execution_count": null,
   "metadata": {},
   "outputs": [],
   "source": [
    "ax = sc.pl.umap(pbmc, size=100, show=False)\n",
    "sc.pl.umap(\n",
    "    pbmc[pbmc.obs[\"bulk_labels\"] == \"Dendritic\"],\n",
    "    size=100,\n",
    "    color=\"n_genes\",\n",
    "    ax=ax\n",
    ")"
   ]
  },
  {
   "cell_type": "markdown",
   "metadata": {},
   "source": [
    "### Plotting w zero centered color scale\n",
    "\n",
    "Because some functions don't support vmax and vmin"
   ]
  },
  {
   "cell_type": "code",
   "execution_count": 1,
   "metadata": {},
   "outputs": [
    {
     "ename": "NameError",
     "evalue": "name 'adata' is not defined",
     "output_type": "error",
     "traceback": [
      "\u001b[0;31m---------------------------------------------------------------------------\u001b[0m",
      "\u001b[0;31mNameError\u001b[0m                                 Traceback (most recent call last)",
      "\u001b[0;32m<ipython-input-1-9eea6b78a052>\u001b[0m in \u001b[0;36m<module>\u001b[0;34m\u001b[0m\n\u001b[0;32m----> 1\u001b[0;31m \u001b[0madata_pl\u001b[0m \u001b[0;34m=\u001b[0m \u001b[0madata\u001b[0m\u001b[0;34m.\u001b[0m\u001b[0mcopy\u001b[0m\u001b[0;34m(\u001b[0m\u001b[0;34m)\u001b[0m\u001b[0;34m\u001b[0m\u001b[0;34m\u001b[0m\u001b[0m\n\u001b[0m\u001b[1;32m      2\u001b[0m \u001b[0mobscol2plot\u001b[0m\u001b[0;34m\u001b[0m\u001b[0;34m\u001b[0m\u001b[0m\n\u001b[1;32m      3\u001b[0m \u001b[0mvmin\u001b[0m\u001b[0;34m,\u001b[0m\u001b[0mvmax\u001b[0m \u001b[0;34m=\u001b[0m \u001b[0;34m(\u001b[0m\u001b[0;34m-\u001b[0m\u001b[0;36m3\u001b[0m\u001b[0;34m,\u001b[0m \u001b[0;36m3\u001b[0m\u001b[0;34m)\u001b[0m\u001b[0;34m\u001b[0m\u001b[0;34m\u001b[0m\u001b[0m\n\u001b[1;32m      4\u001b[0m \u001b[0madata_pl\u001b[0m\u001b[0;34m.\u001b[0m\u001b[0mobs\u001b[0m\u001b[0;34m[\u001b[0m\u001b[0;34m\"obscol2plot\"\u001b[0m\u001b[0;34m]\u001b[0m \u001b[0;34m=\u001b[0m \u001b[0;34m[\u001b[0m\u001b[0mvmax\u001b[0m \u001b[0;32mif\u001b[0m \u001b[0mx\u001b[0m \u001b[0;34m>\u001b[0m \u001b[0mvmax\u001b[0m \u001b[0;32melse\u001b[0m \u001b[0mx\u001b[0m \u001b[0;32mfor\u001b[0m \u001b[0mx\u001b[0m \u001b[0;32min\u001b[0m \u001b[0madata_pl\u001b[0m\u001b[0;34m.\u001b[0m\u001b[0mobs\u001b[0m\u001b[0;34m[\u001b[0m\u001b[0;34m\"obscol2plot\"\u001b[0m\u001b[0;34m]\u001b[0m\u001b[0;34m]\u001b[0m\u001b[0;34m\u001b[0m\u001b[0;34m\u001b[0m\u001b[0m\n\u001b[1;32m      5\u001b[0m \u001b[0madata_pl\u001b[0m\u001b[0;34m.\u001b[0m\u001b[0mobs\u001b[0m\u001b[0;34m[\u001b[0m\u001b[0;34m\"obscol2plot\"\u001b[0m\u001b[0;34m]\u001b[0m \u001b[0;34m=\u001b[0m \u001b[0;34m[\u001b[0m\u001b[0mvmin\u001b[0m \u001b[0;32mif\u001b[0m \u001b[0mx\u001b[0m \u001b[0;34m<\u001b[0m \u001b[0mvmin\u001b[0m \u001b[0;32melse\u001b[0m \u001b[0mx\u001b[0m \u001b[0;32mfor\u001b[0m \u001b[0mx\u001b[0m \u001b[0;32min\u001b[0m \u001b[0madata_pl\u001b[0m\u001b[0;34m.\u001b[0m\u001b[0mobs\u001b[0m\u001b[0;34m[\u001b[0m\u001b[0;34m\"obscol2plot\"\u001b[0m\u001b[0;34m]\u001b[0m\u001b[0;34m]\u001b[0m\u001b[0;34m\u001b[0m\u001b[0;34m\u001b[0m\u001b[0m\n",
      "\u001b[0;31mNameError\u001b[0m: name 'adata' is not defined"
     ]
    }
   ],
   "source": [
    "adata_pl = adata.copy()\n",
    "obscol2plot\n",
    "vmin,vmax = (-3, 3)\n",
    "adata_pl.obs[\"obscol2plot\"] = [vmax if x > vmax else x for x in adata_pl.obs[\"obscol2plot\"]]\n",
    "adata_pl.obs[\"obscol2plot\"] = [vmin if x < vmin else x for x in adata_pl.obs[\"obscol2plot\"]]\n",
    "rcParams[\"figure.figsize\"] = [8,5]\n",
    "sc.pl.scatter(adata_pl, x, y, color=\"obscol2plot\", size=100, color_map='RdBu_r');"
   ]
  },
  {
   "cell_type": "markdown",
   "metadata": {},
   "source": [
    "#### PAGA plotting"
   ]
  },
  {
   "cell_type": "markdown",
   "metadata": {},
   "source": [
    "- How to save position of paga graph corresponding to position of fa graph embedding "
   ]
  },
  {
   "cell_type": "raw",
   "metadata": {},
   "source": [
    "sc.pl.paga_compare(adata, color=\"louvain\", add_pos=True, show=False)\n",
    "sc.pl.paga(adata, color=\"louvain\", pos=adata_t_1.uns[\"paga\"][\"pos\"])"
   ]
  },
  {
   "cell_type": "markdown",
   "metadata": {},
   "source": [
    "- Number of columns can't be set when visualizing peaks in paga graph "
   ]
  },
  {
   "cell_type": "code",
   "execution_count": null,
   "metadata": {},
   "outputs": [],
   "source": [
    "sc.pl.paga(adata, color=feats[:int(len(feats)/2)])\n",
    "sc.pl.paga(adata, color=feats[int(len(feats)/2):])"
   ]
  },
  {
   "cell_type": "markdown",
   "metadata": {},
   "source": [
    "\n",
    "- `sc.pl.paga_compare` with continuous features works only if you have first run it coloring by clusters "
   ]
  },
  {
   "cell_type": "markdown",
   "metadata": {},
   "source": [
    "### Annotate a dim reduction"
   ]
  },
  {
   "cell_type": "code",
   "execution_count": null,
   "metadata": {},
   "outputs": [],
   "source": [
    "## Copy pasting from https://stackoverflow.com/questions/44098362/using-mpatches-patch-for-a-custom-legend/44098900#44098900\n",
    "import matplotlib.patches as mpatches \n",
    "from matplotlib.legend_handler import HandlerPatch\n",
    "colors = [\"g\", \"w\"]\n",
    "texts = [\"Green Data Description\", \"RedData Description\"]\n",
    "class HandlerEllipse(HandlerPatch):\n",
    "    def create_artists(self, legend, orig_handle,\n",
    "                       xdescent, ydescent, width, height, fontsize, trans):\n",
    "        center = 0.5 * width - 0.5 * xdescent, 0.5 * height - 0.5 * ydescent\n",
    "        p = mpatches.Ellipse(xy=center, width=height + xdescent,\n",
    "                             height=height + ydescent)\n",
    "        self.update_prop(p, orig_handle, legend)\n",
    "        p.set_transform(trans)\n",
    "        return [p]\n",
    "                \n",
    "circle_pos = t_adata_bbknn[t_adata_bbknn.obs[\"is_terminal\"]==1].obsm[\"X_draw_graph_fa\"][0,]\n",
    "circle1 = plt.Circle(circle_pos, 200, color='r', fill=False)\n",
    "\n",
    "fig, ax = plt.subplots(1,1, figsize=[9,9])\n",
    "sc.pl.draw_graph(t_adata_bbknn, color=[\"palantir_pseudotime\"], cmap=\"viridis\", size=10, \n",
    "                 frameon=False,\n",
    "                 ax=ax, show=False)\n",
    "for i in range(sum(t_adata_bbknn.obs[\"is_terminal\"]==1)):\n",
    "#     circle_label = t_adata_bbknn[t_adata_bbknn.obs[\"is_terminal\"]==1].obs[\"branch\"][i]\n",
    "#     circle_color = t_adata_bbknn.uns[\"branch_colors\"][i]\n",
    "    circle_color=\"black\"\n",
    "    circle_pos = t_adata_bbknn[t_adata_bbknn.obs[\"is_terminal\"]==1].obsm[\"X_draw_graph_fa\"][i,]\n",
    "    circle = plt.Circle(circle_pos, 300, linewidth=3, color=circle_color, fill=False)\n",
    "    circle_legend = plt.Line2D([circle_pos[0]], [circle_pos[1]], color=\"white\", marker='o', markerfacecolor=\"red\")\n",
    "    ax.add_artist(circle);\n",
    "    ax.text(circle_pos[0], circle_pos[1]-1000, i+1, color=circle_color, fontsize=15)\n",
    "# ax.legend([circle], labels=[\"cia\"], numpoints=1, loc=1)\n",
    "ax.legend([circle],[\"Terminal states\"],bbox_to_anchor=(0.2, 0.95), loc='center', ncol=2, \n",
    "          handler_map={mpatches.Circle: HandlerEllipse()}, \n",
    "          frameon=False)\n"
   ]
  },
  {
   "cell_type": "markdown",
   "metadata": {},
   "source": [
    "### Changing the colorbar ticks\n",
    "\n",
    "Inspiration from here https://github.com/theislab/scanpy/issues/337"
   ]
  },
  {
   "cell_type": "code",
   "execution_count": null,
   "metadata": {},
   "outputs": [],
   "source": [
    "ax = sc.pl.draw_graph(t_adata_bbknn, color=[\"branch_prob_neglect_DP\"], size=30,  \n",
    "                 frameon=False, cmap=\"PRGn\",\n",
    "                    vmin=0, vmax=1,\n",
    "                 title=[\"branch probability\"],\n",
    "                 show=False\n",
    "                )\n",
    "\n",
    "fig = plt.gcf()\n",
    "cbar_ax = fig.axes[-1]\n",
    "cbar_ax.set_yticks(np.array([0,1]));\n",
    "cbar_ax.set_yticklabels(labels=[\"unconv_SP\", \"\", \"\", \"\", \"\",\"neglect_DP\"]);\n",
    "fig.savefig(figdir + \"draw_graph_branchprobs.png\")"
   ]
  },
  {
   "cell_type": "markdown",
   "metadata": {},
   "source": [
    "---\n",
    "## 2. AnnData\n",
    "\n",
    "Delete a dimensionality reduction matrix (slot from `adata.obsm`)"
   ]
  },
  {
   "cell_type": "code",
   "execution_count": null,
   "metadata": {},
   "outputs": [],
   "source": [
    "adata.obsm.__delitem__(\"X_pca\")"
   ]
  },
  {
   "cell_type": "code",
   "execution_count": null,
   "metadata": {},
   "outputs": [],
   "source": []
  },
  {
   "cell_type": "code",
   "execution_count": null,
   "metadata": {},
   "outputs": [],
   "source": []
  },
  {
   "cell_type": "code",
   "execution_count": null,
   "metadata": {},
   "outputs": [],
   "source": []
  },
  {
   "cell_type": "code",
   "execution_count": 2,
   "metadata": {},
   "outputs": [],
   "source": [
    "import scanpy as sc\n",
    "adata = sc.read_h5ad(\"/nfs/team205/ed6/data/thymus_multimap/thymusATAC_cellatacPeaks_tcellsBBKNN_20200911.h5ad\")"
   ]
  },
  {
   "cell_type": "code",
   "execution_count": 3,
   "metadata": {},
   "outputs": [
    {
     "data": {
      "text/plain": [
       "AnnData object with n_obs × n_vars = 19607 × 68108\n",
       "    obs: 'nCount_peaks', 'nFeature_peaks', 'total', 'duplicate', 'chimeric', 'unmapped', 'lowmapq', 'mitochondrial', 'passed_filters', 'cell_id', 'TSS_fragments', 'DNase_sensitive_region_fragments', 'enhancer_region_fragments', 'promoter_region_fragments', 'on_target_fragments', 'blacklist_region_fragments', 'peak_region_fragments', 'peak_region_cutsites', 'peaks_snn_res.1.2', 'seurat_clusters', 'sample_id', 'nCount_win', 'nFeature_win', 'Age', 'annotation_1', 'leiden', 'leiden_names', 'is_root', 'CD34p_CD4m_CD1m', 'CD34p_CD4m_CD1p', 'CD34p_CD4p', 'DP_CD3m', 'DP_CD3p', 'ISP_CD28p', 'SP_CD4p', 'SP_CD8p', 'gd_CD1m', 'gd_CD1p', 'CD34+CD1-', 'CD34+CD1+', 'CD34+CD4+', 'ISP CD28+', 'DP CD3-', 'DP CD3+', 'SP CD4+', 'SP CD8+', 'γδ CD1+', 'γδ CD1-', 'palantir_pseudotime', 'palantir_entropy', 'differentiation potential', 'is_terminal', 'terminal_state', 'branch_prob_mature_T', 'branch_prob_neglect_DP'\n",
       "    var: 'tot_count', 'tot_cells', 'frac_cells', 'max_frac', 'peak_width', 'exon', 'gene', 'promoter', 'annotation', 'gene_name', 'gene_id', 'tss_distance'\n",
       "    uns: 'draw_graph', 'iroot', 'leiden', 'leiden_colors', 'leiden_names_colors', 'neighbors', 'sample_id_colors', 'seurat_clusters_colors', 'umap'\n",
       "    obsm: 'X_cistopic', 'X_draw_graph_fa', 'X_pca', 'X_umap', 'X_umap_cistopic', 'X_umap_win'\n",
       "    layers: 'binary_raw', 'non_binary_raw', 'tfidf'\n",
       "    obsp: 'connectivities', 'distances'"
      ]
     },
     "execution_count": 3,
     "metadata": {},
     "output_type": "execute_result"
    }
   ],
   "source": []
  },
  {
   "cell_type": "code",
   "execution_count": null,
   "metadata": {},
   "outputs": [],
   "source": []
  }
 ],
 "metadata": {
  "kernelspec": {
   "display_name": "Python (emma_env)",
   "language": "python",
   "name": "emma_env"
  },
  "language_info": {
   "codemirror_mode": {
    "name": "ipython",
    "version": 3
   },
   "file_extension": ".py",
   "mimetype": "text/x-python",
   "name": "python",
   "nbconvert_exporter": "python",
   "pygments_lexer": "ipython3",
   "version": "3.7.8"
  }
 },
 "nbformat": 4,
 "nbformat_minor": 4
}
