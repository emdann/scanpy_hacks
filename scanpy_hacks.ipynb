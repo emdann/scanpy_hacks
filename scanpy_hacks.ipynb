{
 "cells": [
  {
   "cell_type": "markdown",
   "metadata": {},
   "source": [
    "# Scanpy cheatsheet\n",
    "---"
   ]
  },
  {
   "cell_type": "markdown",
   "metadata": {},
   "source": [
    "## 1. Plotting"
   ]
  },
  {
   "cell_type": "markdown",
   "metadata": {},
   "source": [
    "#### Arranging multiple scatterplots in same line"
   ]
  },
  {
   "cell_type": "raw",
   "metadata": {},
   "source": [
    "fig, ax = plt.subplots(1,3, figsize=(20,6))\n",
    "sc.pl.umap(adata, ax=ax[0], show=False)\n",
    "sc.pl.umap(bdata, ax=ax[1], show=False)\n",
    "sc.pl.umap(cdata, ax=ax[2], show=False)\n",
    "plt.tight_layout(pad=3.0)\n",
    "plt.show()"
   ]
  },
  {
   "cell_type": "markdown",
   "metadata": {},
   "source": [
    "#### PAGA plotting"
   ]
  },
  {
   "cell_type": "markdown",
   "metadata": {},
   "source": [
    "How to save position of paga graph corresponding to position of fa graph embedding "
   ]
  },
  {
   "cell_type": "raw",
   "metadata": {},
   "source": [
    "sc.pl.paga_compare(adata, color=\"louvain\", add_pos=True, show=False)\n",
    "sc.pl.paga(adata, color=\"louvain\", pos=adata_t_1.uns[\"paga\"][\"pos\"])"
   ]
  },
  {
   "cell_type": "markdown",
   "metadata": {},
   "source": [
    "Number of columns can't be set when visualizing peaks in paga graph "
   ]
  },
  {
   "cell_type": "code",
   "execution_count": null,
   "metadata": {},
   "outputs": [],
   "source": [
    "sc.pl.paga(adata, color=feats[:int(len(feats)/2)])\n",
    "sc.pl.paga(adata, color=feats[int(len(feats)/2):])"
   ]
  },
  {
   "cell_type": "markdown",
   "metadata": {},
   "source": [
    "More notes to self: \n",
    "\n",
    "- `sc.pl.paga_compare` with continuous features works only if you have first run it coloring by clusters "
   ]
  },
  {
   "cell_type": "markdown",
   "metadata": {},
   "source": [
    "### How to delete a dimensionality reduction matrix (slot from `adata.obsm`)"
   ]
  },
  {
   "cell_type": "markdown",
   "metadata": {},
   "source": [
    "adata.obsm.__delitem__(\"X_pca\")"
   ]
  }
 ],
 "metadata": {
  "kernelspec": {
   "display_name": "Python 3",
   "language": "python",
   "name": "python3"
  },
  "language_info": {
   "codemirror_mode": {
    "name": "ipython",
    "version": 3
   },
   "file_extension": ".py",
   "mimetype": "text/x-python",
   "name": "python",
   "nbconvert_exporter": "python",
   "pygments_lexer": "ipython3",
   "version": "3.7.6"
  }
 },
 "nbformat": 4,
 "nbformat_minor": 4
}
